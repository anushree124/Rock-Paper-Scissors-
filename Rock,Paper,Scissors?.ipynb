{
  "nbformat": 4,
  "nbformat_minor": 0,
  "metadata": {
    "colab": {
      "provenance": [],
      "authorship_tag": "ABX9TyPRwsI1II1xxVFG3u/GR7z3",
      "include_colab_link": true
    },
    "kernelspec": {
      "name": "python3",
      "display_name": "Python 3"
    },
    "language_info": {
      "name": "python"
    }
  },
  "cells": [
    {
      "cell_type": "markdown",
      "metadata": {
        "id": "view-in-github",
        "colab_type": "text"
      },
      "source": [
        "<a href=\"https://colab.research.google.com/github/anushree124/Rock-Paper-Scissors-/blob/main/Rock%2CPaper%2CScissors%3F.ipynb\" target=\"_parent\"><img src=\"https://colab.research.google.com/assets/colab-badge.svg\" alt=\"Open In Colab\"/></a>"
      ]
    },
    {
      "cell_type": "code",
      "execution_count": null,
      "metadata": {
        "id": "9y_JAlWzQ3zn",
        "outputId": "cc10881d-3a9c-44d6-ed13-477b5ae30084",
        "colab": {
          "base_uri": "https://localhost:8080/"
        }
      },
      "outputs": [
        {
          "output_type": "stream",
          "name": "stdout",
          "text": [
            "Enter your choice: rock\n",
            "You chose , Rock \n",
            "Computer chose ,Scissors\n",
            "You Win!\n"
          ]
        }
      ],
      "source": [
        "'''\n",
        "1 for rock\n",
        "-1 for paper\n",
        "0 for scissors\n",
        "'''\n",
        "import random\n",
        "computer = random.choice ([1,0,-1])\n",
        "youslct = input(\"Enter your choice: \")\n",
        "youDict ={\n",
        "    \"rock\":1,\n",
        "    \"paper\":-1,\n",
        "    \"scissors\":0\n",
        "         }\n",
        "reverseDict={1:\"Rock\",-1:\"Paper\", 0: \"Scissors\"}\n",
        "\n",
        "you=youDict[youslct]\n",
        "\n",
        "print(f\"You chose , {reverseDict[you]} \\nComputer chose ,{reverseDict[computer]}\")\n",
        "\n",
        "\n",
        "\n",
        "if(computer==you):\n",
        "    print(\"Its a draw\")\n",
        "\n",
        "else:\n",
        "        if(computer==1 and you==-1):\n",
        "            print(\"You Win!\")\n",
        "\n",
        "        elif(computer==1  and you==0 ):\n",
        "            print(\"You Lose! \")\n",
        "\n",
        "        elif(computer==-1  and you==1 ):\n",
        "            print(\"You Lose! \")\n",
        "\n",
        "        elif(computer==-1  and you==0 ):\n",
        "            print(\"You Win!\")\n",
        "\n",
        "        elif(computer==0  and you==1 ):\n",
        "            print(\"You Win!\")\n",
        "\n",
        "        elif(computer==0  and you==-1 ):\n",
        "            print(\"You Lose! \")\n",
        "\n",
        "        else:\n",
        "            print(\"Something went wrong\")\n"
      ]
    }
  ]
}